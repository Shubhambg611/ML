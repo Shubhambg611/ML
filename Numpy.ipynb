{
 "cells": [
  {
   "cell_type": "markdown",
   "id": "5df34a58",
   "metadata": {},
   "source": [
    "# Numpy"
   ]
  },
  {
   "cell_type": "markdown",
   "id": "c1e87aaa",
   "metadata": {},
   "source": [
    "# numpy array method and atributes on net for more info (www.scipy.org)"
   ]
  },
  {
   "cell_type": "markdown",
   "id": "a25fe6de",
   "metadata": {},
   "source": [
    "**numpy tutorial from code with harry**"
   ]
  },
  {
   "cell_type": "markdown",
   "id": "52bde133",
   "metadata": {},
   "source": [
    "***numpy tutorial from code with harry***"
   ]
  },
  {
   "cell_type": "code",
   "execution_count": 1,
   "id": "502fdabc",
   "metadata": {},
   "outputs": [],
   "source": [
    "import numpy as np"
   ]
  },
  {
   "cell_type": "code",
   "execution_count": 2,
   "id": "cbe410ed",
   "metadata": {},
   "outputs": [],
   "source": [
    "myarr = np.array([[3,6,32,7]],np.int64)"
   ]
  },
  {
   "cell_type": "code",
   "execution_count": 3,
   "id": "58648a68",
   "metadata": {},
   "outputs": [
    {
     "data": {
      "text/plain": [
       "7"
      ]
     },
     "execution_count": 3,
     "metadata": {},
     "output_type": "execute_result"
    }
   ],
   "source": [
    "myarr[0,3]"
   ]
  },
  {
   "cell_type": "code",
   "execution_count": 4,
   "id": "38b794ae",
   "metadata": {},
   "outputs": [
    {
     "data": {
      "text/plain": [
       "(1, 4)"
      ]
     },
     "execution_count": 4,
     "metadata": {},
     "output_type": "execute_result"
    }
   ],
   "source": [
    "myarr.shape"
   ]
  },
  {
   "cell_type": "code",
   "execution_count": 5,
   "id": "4e8afae8",
   "metadata": {},
   "outputs": [
    {
     "data": {
      "text/plain": [
       "dtype('int64')"
      ]
     },
     "execution_count": 5,
     "metadata": {},
     "output_type": "execute_result"
    }
   ],
   "source": [
    "myarr.dtype"
   ]
  },
  {
   "cell_type": "markdown",
   "id": "98d844d7",
   "metadata": {},
   "source": [
    "***we can find more type on net as numpy type reference***"
   ]
  },
  {
   "cell_type": "code",
   "execution_count": 6,
   "id": "d8d80efd",
   "metadata": {},
   "outputs": [],
   "source": [
    "myarr[0,3] =45"
   ]
  },
  {
   "cell_type": "markdown",
   "id": "08dcaa52",
   "metadata": {},
   "source": [
    "**for changing element from array**"
   ]
  },
  {
   "cell_type": "code",
   "execution_count": 7,
   "id": "f13116ae",
   "metadata": {},
   "outputs": [
    {
     "data": {
      "text/plain": [
       "array([[ 3,  6, 32, 45]], dtype=int64)"
      ]
     },
     "execution_count": 7,
     "metadata": {},
     "output_type": "execute_result"
    }
   ],
   "source": [
    "myarr"
   ]
  },
  {
   "cell_type": "markdown",
   "id": "291cc60f",
   "metadata": {},
   "source": [
    "# Array creation method in numpy\n",
    "\n",
    "**Conversion from other Python structures (i.e. lists and tuples)\n",
    "\n",
    "**Intrinsic NumPy array creation functions (e.g. arange, ones, zeros, etc.)\n",
    "\n",
    "**Replicating, joining, or mutating existing arrays\n",
    "\n",
    "**Reading arrays from disk, either from standard or custom formats\n",
    "\n",
    "**Creating arrays from raw bytes through the use of strings or buffers\n",
    "\n",
    "**Use of special library functions (e.g., random)\n"
   ]
  },
  {
   "cell_type": "markdown",
   "id": "007e600c",
   "metadata": {},
   "source": [
    "# Array creation (Conversion from other Python structures)"
   ]
  },
  {
   "cell_type": "code",
   "execution_count": 8,
   "id": "34cfc3eb",
   "metadata": {},
   "outputs": [],
   "source": [
    "listarray = np.array([[1,2,3],[5,6,7],[0,3,1]])"
   ]
  },
  {
   "cell_type": "code",
   "execution_count": 9,
   "id": "b00aa2b7",
   "metadata": {},
   "outputs": [
    {
     "data": {
      "text/plain": [
       "array([[1, 2, 3],\n",
       "       [5, 6, 7],\n",
       "       [0, 3, 1]])"
      ]
     },
     "execution_count": 9,
     "metadata": {},
     "output_type": "execute_result"
    }
   ],
   "source": [
    "listarray"
   ]
  },
  {
   "cell_type": "code",
   "execution_count": 10,
   "id": "7ce3b4b8",
   "metadata": {},
   "outputs": [
    {
     "data": {
      "text/plain": [
       "dtype('int32')"
      ]
     },
     "execution_count": 10,
     "metadata": {},
     "output_type": "execute_result"
    }
   ],
   "source": [
    "listarray.dtype"
   ]
  },
  {
   "cell_type": "code",
   "execution_count": 11,
   "id": "1c3a708d",
   "metadata": {},
   "outputs": [
    {
     "data": {
      "text/plain": [
       "(3, 3)"
      ]
     },
     "execution_count": 11,
     "metadata": {},
     "output_type": "execute_result"
    }
   ],
   "source": [
    "listarray.shape"
   ]
  },
  {
   "cell_type": "code",
   "execution_count": 12,
   "id": "550a744b",
   "metadata": {},
   "outputs": [
    {
     "data": {
      "text/plain": [
       "9"
      ]
     },
     "execution_count": 12,
     "metadata": {},
     "output_type": "execute_result"
    }
   ],
   "source": [
    "listarray.size"
   ]
  },
  {
   "cell_type": "markdown",
   "id": "268968b2",
   "metadata": {},
   "source": [
    "# Array creation (Intrinsic NumPy array creation functions)"
   ]
  },
  {
   "cell_type": "code",
   "execution_count": 13,
   "id": "9dd3fccc",
   "metadata": {},
   "outputs": [],
   "source": [
    "zeros = np.zeros((2,5))"
   ]
  },
  {
   "cell_type": "code",
   "execution_count": 14,
   "id": "1becb709",
   "metadata": {},
   "outputs": [
    {
     "data": {
      "text/plain": [
       "array([[0., 0., 0., 0., 0.],\n",
       "       [0., 0., 0., 0., 0.]])"
      ]
     },
     "execution_count": 14,
     "metadata": {},
     "output_type": "execute_result"
    }
   ],
   "source": [
    "zeros"
   ]
  },
  {
   "cell_type": "code",
   "execution_count": 15,
   "id": "5f259d43",
   "metadata": {},
   "outputs": [
    {
     "data": {
      "text/plain": [
       "(2, 5)"
      ]
     },
     "execution_count": 15,
     "metadata": {},
     "output_type": "execute_result"
    }
   ],
   "source": [
    "zeros.shape"
   ]
  },
  {
   "cell_type": "code",
   "execution_count": 16,
   "id": "52f09356",
   "metadata": {},
   "outputs": [],
   "source": [
    "rng = np.arange(15)"
   ]
  },
  {
   "cell_type": "code",
   "execution_count": 17,
   "id": "ed9bc712",
   "metadata": {},
   "outputs": [
    {
     "data": {
      "text/plain": [
       "array([ 0,  1,  2,  3,  4,  5,  6,  7,  8,  9, 10, 11, 12, 13, 14])"
      ]
     },
     "execution_count": 17,
     "metadata": {},
     "output_type": "execute_result"
    }
   ],
   "source": [
    "rng"
   ]
  },
  {
   "cell_type": "code",
   "execution_count": 18,
   "id": "4c753a90",
   "metadata": {},
   "outputs": [],
   "source": [
    "lspace = np.linspace(1,50,10) #it will make 10 equal parts betwwen 1-50 represent as (1,50,10)"
   ]
  },
  {
   "cell_type": "code",
   "execution_count": 19,
   "id": "e71d870e",
   "metadata": {},
   "outputs": [
    {
     "data": {
      "text/plain": [
       "array([ 1.        ,  6.44444444, 11.88888889, 17.33333333, 22.77777778,\n",
       "       28.22222222, 33.66666667, 39.11111111, 44.55555556, 50.        ])"
      ]
     },
     "execution_count": 19,
     "metadata": {},
     "output_type": "execute_result"
    }
   ],
   "source": [
    "lspace"
   ]
  },
  {
   "cell_type": "code",
   "execution_count": 20,
   "id": "e78f77c9",
   "metadata": {},
   "outputs": [],
   "source": [
    "emp = np.empty((4,6)) "
   ]
  },
  {
   "cell_type": "code",
   "execution_count": 21,
   "id": "08eba2f3",
   "metadata": {},
   "outputs": [
    {
     "data": {
      "text/plain": [
       "array([[4.67296746e-307, 1.69121096e-306, 1.86920328e-306,\n",
       "        1.29060871e-306, 7.56599807e-307, 8.90104239e-307],\n",
       "       [1.24610383e-306, 1.69118108e-306, 8.06632139e-308,\n",
       "        1.20160711e-306, 1.69119330e-306, 1.29062229e-306],\n",
       "       [1.60217812e-306, 1.37961370e-306, 1.69118515e-306,\n",
       "        1.11258277e-307, 1.05700515e-307, 1.11261774e-306],\n",
       "       [1.29060871e-306, 8.34424766e-308, 8.34445138e-308,\n",
       "        1.37959129e-306, 1.02360528e-306, 2.46155235e-312]])"
      ]
     },
     "execution_count": 21,
     "metadata": {},
     "output_type": "execute_result"
    }
   ],
   "source": [
    "emp"
   ]
  },
  {
   "cell_type": "code",
   "execution_count": 22,
   "id": "90bf8b13",
   "metadata": {},
   "outputs": [],
   "source": [
    "emp_like = np.empty_like(lspace)"
   ]
  },
  {
   "cell_type": "code",
   "execution_count": 23,
   "id": "3d4af47c",
   "metadata": {},
   "outputs": [
    {
     "data": {
      "text/plain": [
       "array([ 1.        ,  6.44444444, 11.88888889, 17.33333333, 22.77777778,\n",
       "       28.22222222, 33.66666667, 39.11111111, 44.55555556, 50.        ])"
      ]
     },
     "execution_count": 23,
     "metadata": {},
     "output_type": "execute_result"
    }
   ],
   "source": [
    "emp_like"
   ]
  },
  {
   "cell_type": "code",
   "execution_count": 24,
   "id": "fc8e1b79",
   "metadata": {},
   "outputs": [],
   "source": [
    "ide = np.identity(45)"
   ]
  },
  {
   "cell_type": "code",
   "execution_count": 25,
   "id": "5ea3b6fb",
   "metadata": {},
   "outputs": [
    {
     "data": {
      "text/plain": [
       "array([[1., 0., 0., ..., 0., 0., 0.],\n",
       "       [0., 1., 0., ..., 0., 0., 0.],\n",
       "       [0., 0., 1., ..., 0., 0., 0.],\n",
       "       ...,\n",
       "       [0., 0., 0., ..., 1., 0., 0.],\n",
       "       [0., 0., 0., ..., 0., 1., 0.],\n",
       "       [0., 0., 0., ..., 0., 0., 1.]])"
      ]
     },
     "execution_count": 25,
     "metadata": {},
     "output_type": "execute_result"
    }
   ],
   "source": [
    "ide"
   ]
  },
  {
   "cell_type": "code",
   "execution_count": 26,
   "id": "9bd63e8b",
   "metadata": {},
   "outputs": [
    {
     "data": {
      "text/plain": [
       "(45, 45)"
      ]
     },
     "execution_count": 26,
     "metadata": {},
     "output_type": "execute_result"
    }
   ],
   "source": [
    "ide.shape"
   ]
  },
  {
   "cell_type": "code",
   "execution_count": 27,
   "id": "ce147230",
   "metadata": {},
   "outputs": [],
   "source": [
    "arr = np.arange(99)"
   ]
  },
  {
   "cell_type": "code",
   "execution_count": 28,
   "id": "7da98830",
   "metadata": {},
   "outputs": [
    {
     "data": {
      "text/plain": [
       "array([ 0,  1,  2,  3,  4,  5,  6,  7,  8,  9, 10, 11, 12, 13, 14, 15, 16,\n",
       "       17, 18, 19, 20, 21, 22, 23, 24, 25, 26, 27, 28, 29, 30, 31, 32, 33,\n",
       "       34, 35, 36, 37, 38, 39, 40, 41, 42, 43, 44, 45, 46, 47, 48, 49, 50,\n",
       "       51, 52, 53, 54, 55, 56, 57, 58, 59, 60, 61, 62, 63, 64, 65, 66, 67,\n",
       "       68, 69, 70, 71, 72, 73, 74, 75, 76, 77, 78, 79, 80, 81, 82, 83, 84,\n",
       "       85, 86, 87, 88, 89, 90, 91, 92, 93, 94, 95, 96, 97, 98])"
      ]
     },
     "execution_count": 28,
     "metadata": {},
     "output_type": "execute_result"
    }
   ],
   "source": [
    "arr"
   ]
  },
  {
   "cell_type": "code",
   "execution_count": 29,
   "id": "7b1ba02c",
   "metadata": {},
   "outputs": [],
   "source": [
    "arr =arr.reshape(3,33)"
   ]
  },
  {
   "cell_type": "code",
   "execution_count": 30,
   "id": "a6e25ea6",
   "metadata": {},
   "outputs": [
    {
     "data": {
      "text/plain": [
       "array([[ 0,  1,  2,  3,  4,  5,  6,  7,  8,  9, 10, 11, 12, 13, 14, 15,\n",
       "        16, 17, 18, 19, 20, 21, 22, 23, 24, 25, 26, 27, 28, 29, 30, 31,\n",
       "        32],\n",
       "       [33, 34, 35, 36, 37, 38, 39, 40, 41, 42, 43, 44, 45, 46, 47, 48,\n",
       "        49, 50, 51, 52, 53, 54, 55, 56, 57, 58, 59, 60, 61, 62, 63, 64,\n",
       "        65],\n",
       "       [66, 67, 68, 69, 70, 71, 72, 73, 74, 75, 76, 77, 78, 79, 80, 81,\n",
       "        82, 83, 84, 85, 86, 87, 88, 89, 90, 91, 92, 93, 94, 95, 96, 97,\n",
       "        98]])"
      ]
     },
     "execution_count": 30,
     "metadata": {},
     "output_type": "execute_result"
    }
   ],
   "source": [
    "arr"
   ]
  },
  {
   "cell_type": "code",
   "execution_count": 31,
   "id": "b0f58946",
   "metadata": {},
   "outputs": [],
   "source": [
    "arr = arr.ravel()"
   ]
  },
  {
   "cell_type": "code",
   "execution_count": 32,
   "id": "136afc90",
   "metadata": {},
   "outputs": [
    {
     "data": {
      "text/plain": [
       "array([ 0,  1,  2,  3,  4,  5,  6,  7,  8,  9, 10, 11, 12, 13, 14, 15, 16,\n",
       "       17, 18, 19, 20, 21, 22, 23, 24, 25, 26, 27, 28, 29, 30, 31, 32, 33,\n",
       "       34, 35, 36, 37, 38, 39, 40, 41, 42, 43, 44, 45, 46, 47, 48, 49, 50,\n",
       "       51, 52, 53, 54, 55, 56, 57, 58, 59, 60, 61, 62, 63, 64, 65, 66, 67,\n",
       "       68, 69, 70, 71, 72, 73, 74, 75, 76, 77, 78, 79, 80, 81, 82, 83, 84,\n",
       "       85, 86, 87, 88, 89, 90, 91, 92, 93, 94, 95, 96, 97, 98])"
      ]
     },
     "execution_count": 32,
     "metadata": {},
     "output_type": "execute_result"
    }
   ],
   "source": [
    "arr"
   ]
  },
  {
   "cell_type": "code",
   "execution_count": 33,
   "id": "858787c5",
   "metadata": {},
   "outputs": [
    {
     "data": {
      "text/plain": [
       "(99,)"
      ]
     },
     "execution_count": 33,
     "metadata": {},
     "output_type": "execute_result"
    }
   ],
   "source": [
    "arr.shape"
   ]
  },
  {
   "cell_type": "code",
   "execution_count": 34,
   "id": "644d8d36",
   "metadata": {},
   "outputs": [
    {
     "data": {
      "text/plain": [
       "5"
      ]
     },
     "execution_count": 34,
     "metadata": {},
     "output_type": "execute_result"
    }
   ],
   "source": [
    "arr[5]"
   ]
  },
  {
   "cell_type": "code",
   "execution_count": 35,
   "id": "8e5755c1",
   "metadata": {},
   "outputs": [],
   "source": [
    "x = [[1,2,3],[4,5,6],[7,1,0]]"
   ]
  },
  {
   "cell_type": "code",
   "execution_count": 36,
   "id": "0b1ae606",
   "metadata": {},
   "outputs": [],
   "source": [
    "ar = np.array(x)"
   ]
  },
  {
   "cell_type": "code",
   "execution_count": 37,
   "id": "22dd81e3",
   "metadata": {},
   "outputs": [
    {
     "data": {
      "text/plain": [
       "array([[1, 2, 3],\n",
       "       [4, 5, 6],\n",
       "       [7, 1, 0]])"
      ]
     },
     "execution_count": 37,
     "metadata": {},
     "output_type": "execute_result"
    }
   ],
   "source": [
    "ar"
   ]
  },
  {
   "cell_type": "code",
   "execution_count": 38,
   "id": "88b44449",
   "metadata": {},
   "outputs": [
    {
     "data": {
      "text/plain": [
       "array([ 6, 15,  8])"
      ]
     },
     "execution_count": 38,
     "metadata": {},
     "output_type": "execute_result"
    }
   ],
   "source": [
    "ar.sum(axis=1) #adding in side direction "
   ]
  },
  {
   "cell_type": "code",
   "execution_count": 39,
   "id": "627bd5ee",
   "metadata": {},
   "outputs": [
    {
     "data": {
      "text/plain": [
       "array([12,  8,  9])"
      ]
     },
     "execution_count": 39,
     "metadata": {},
     "output_type": "execute_result"
    }
   ],
   "source": [
    "ar.sum(axis=0) #adding in downword direction "
   ]
  },
  {
   "cell_type": "code",
   "execution_count": 40,
   "id": "8011477a",
   "metadata": {},
   "outputs": [
    {
     "data": {
      "text/plain": [
       "array([[1, 4, 7],\n",
       "       [2, 5, 1],\n",
       "       [3, 6, 0]])"
      ]
     },
     "execution_count": 40,
     "metadata": {},
     "output_type": "execute_result"
    }
   ],
   "source": [
    "ar.T #transpose"
   ]
  },
  {
   "cell_type": "code",
   "execution_count": 41,
   "id": "622f375b",
   "metadata": {},
   "outputs": [
    {
     "data": {
      "text/plain": [
       "<numpy.flatiter at 0x1df10815fb0>"
      ]
     },
     "execution_count": 41,
     "metadata": {},
     "output_type": "execute_result"
    }
   ],
   "source": [
    "ar.flat"
   ]
  },
  {
   "cell_type": "code",
   "execution_count": 42,
   "id": "549d138c",
   "metadata": {},
   "outputs": [
    {
     "name": "stdout",
     "output_type": "stream",
     "text": [
      "1\n",
      "2\n",
      "3\n",
      "4\n",
      "5\n",
      "6\n",
      "7\n",
      "1\n",
      "0\n"
     ]
    }
   ],
   "source": [
    "for item in ar.flat: #print all element in one line\n",
    "    print(item)"
   ]
  },
  {
   "cell_type": "code",
   "execution_count": 43,
   "id": "0002f958",
   "metadata": {},
   "outputs": [
    {
     "data": {
      "text/plain": [
       "2"
      ]
     },
     "execution_count": 43,
     "metadata": {},
     "output_type": "execute_result"
    }
   ],
   "source": [
    "ar.ndim #number of dimensions "
   ]
  },
  {
   "cell_type": "code",
   "execution_count": 44,
   "id": "26084dda",
   "metadata": {},
   "outputs": [
    {
     "data": {
      "text/plain": [
       "9"
      ]
     },
     "execution_count": 44,
     "metadata": {},
     "output_type": "execute_result"
    }
   ],
   "source": [
    "ar.size"
   ]
  },
  {
   "cell_type": "code",
   "execution_count": 45,
   "id": "5edc40a2",
   "metadata": {},
   "outputs": [
    {
     "data": {
      "text/plain": [
       "36"
      ]
     },
     "execution_count": 45,
     "metadata": {},
     "output_type": "execute_result"
    }
   ],
   "source": [
    "ar.nbytes"
   ]
  },
  {
   "cell_type": "code",
   "execution_count": 46,
   "id": "3878225e",
   "metadata": {},
   "outputs": [],
   "source": [
    "one = np.array([1,3,4,634,2])"
   ]
  },
  {
   "cell_type": "code",
   "execution_count": 47,
   "id": "615d8845",
   "metadata": {},
   "outputs": [
    {
     "data": {
      "text/plain": [
       "3"
      ]
     },
     "execution_count": 47,
     "metadata": {},
     "output_type": "execute_result"
    }
   ],
   "source": [
    "one.argmax() #shows the location of maximum value in array"
   ]
  },
  {
   "cell_type": "code",
   "execution_count": 48,
   "id": "32d65750",
   "metadata": {},
   "outputs": [
    {
     "data": {
      "text/plain": [
       "0"
      ]
     },
     "execution_count": 48,
     "metadata": {},
     "output_type": "execute_result"
    }
   ],
   "source": [
    "one.argmin() #min value location\n"
   ]
  },
  {
   "cell_type": "code",
   "execution_count": 49,
   "id": "636191a9",
   "metadata": {},
   "outputs": [
    {
     "data": {
      "text/plain": [
       "array([0, 4, 1, 2, 3], dtype=int64)"
      ]
     },
     "execution_count": 49,
     "metadata": {},
     "output_type": "execute_result"
    }
   ],
   "source": [
    "one.argsort() #orger of elemet sorted low-high"
   ]
  },
  {
   "cell_type": "code",
   "execution_count": 50,
   "id": "780145f8",
   "metadata": {},
   "outputs": [
    {
     "data": {
      "text/plain": [
       "array([[1, 2, 3],\n",
       "       [4, 5, 6],\n",
       "       [7, 1, 0]])"
      ]
     },
     "execution_count": 50,
     "metadata": {},
     "output_type": "execute_result"
    }
   ],
   "source": [
    "ar"
   ]
  },
  {
   "cell_type": "code",
   "execution_count": 51,
   "id": "57c3d514",
   "metadata": {},
   "outputs": [
    {
     "data": {
      "text/plain": [
       "array([[0, 1, 2],\n",
       "       [0, 1, 2],\n",
       "       [2, 1, 0]], dtype=int64)"
      ]
     },
     "execution_count": 51,
     "metadata": {},
     "output_type": "execute_result"
    }
   ],
   "source": [
    "ar.argsort()"
   ]
  },
  {
   "cell_type": "code",
   "execution_count": 52,
   "id": "0c80928f",
   "metadata": {},
   "outputs": [
    {
     "data": {
      "text/plain": [
       "8"
      ]
     },
     "execution_count": 52,
     "metadata": {},
     "output_type": "execute_result"
    }
   ],
   "source": [
    "ar.argmin()"
   ]
  },
  {
   "cell_type": "code",
   "execution_count": 53,
   "id": "e0220395",
   "metadata": {},
   "outputs": [
    {
     "data": {
      "text/plain": [
       "6"
      ]
     },
     "execution_count": 53,
     "metadata": {},
     "output_type": "execute_result"
    }
   ],
   "source": [
    "ar.argmax()"
   ]
  },
  {
   "cell_type": "code",
   "execution_count": 54,
   "id": "aa9579d0",
   "metadata": {},
   "outputs": [
    {
     "data": {
      "text/plain": [
       "array([2, 1, 1], dtype=int64)"
      ]
     },
     "execution_count": 54,
     "metadata": {},
     "output_type": "execute_result"
    }
   ],
   "source": [
    "ar.argmax(axis=0)"
   ]
  },
  {
   "cell_type": "code",
   "execution_count": 55,
   "id": "618839ed",
   "metadata": {},
   "outputs": [
    {
     "data": {
      "text/plain": [
       "array([2, 2, 0], dtype=int64)"
      ]
     },
     "execution_count": 55,
     "metadata": {},
     "output_type": "execute_result"
    }
   ],
   "source": [
    "ar.argmax(axis=1)"
   ]
  },
  {
   "cell_type": "code",
   "execution_count": 56,
   "id": "b6329d47",
   "metadata": {},
   "outputs": [
    {
     "data": {
      "text/plain": [
       "array([[0, 1, 2],\n",
       "       [0, 1, 2],\n",
       "       [2, 1, 0]], dtype=int64)"
      ]
     },
     "execution_count": 56,
     "metadata": {},
     "output_type": "execute_result"
    }
   ],
   "source": [
    "ar.argsort(axis=1)"
   ]
  },
  {
   "cell_type": "code",
   "execution_count": 57,
   "id": "6e8802ae",
   "metadata": {},
   "outputs": [
    {
     "data": {
      "text/plain": [
       "array([1, 2, 3, 4, 5, 6, 7, 1, 0])"
      ]
     },
     "execution_count": 57,
     "metadata": {},
     "output_type": "execute_result"
    }
   ],
   "source": [
    "ar.ravel()"
   ]
  },
  {
   "cell_type": "code",
   "execution_count": 58,
   "id": "486172e2",
   "metadata": {},
   "outputs": [
    {
     "data": {
      "text/plain": [
       "array([[1, 2, 3],\n",
       "       [4, 5, 6],\n",
       "       [7, 1, 0]])"
      ]
     },
     "execution_count": 58,
     "metadata": {},
     "output_type": "execute_result"
    }
   ],
   "source": [
    "ar"
   ]
  },
  {
   "cell_type": "code",
   "execution_count": 59,
   "id": "030c209f",
   "metadata": {},
   "outputs": [],
   "source": [
    "ar2 = np.array([[1, 2, 1],\n",
    "                [4, 0, 6],\n",
    "                [8, 1, 0]])"
   ]
  },
  {
   "cell_type": "code",
   "execution_count": 60,
   "id": "7116492a",
   "metadata": {},
   "outputs": [
    {
     "data": {
      "text/plain": [
       "array([[ 2,  4,  4],\n",
       "       [ 8,  5, 12],\n",
       "       [15,  2,  0]])"
      ]
     },
     "execution_count": 60,
     "metadata": {},
     "output_type": "execute_result"
    }
   ],
   "source": [
    "ar+ar2 #adding array  matrix"
   ]
  },
  {
   "cell_type": "code",
   "execution_count": 61,
   "id": "ea2ff5c6",
   "metadata": {},
   "outputs": [
    {
     "data": {
      "text/plain": [
       "array([[ 1,  4,  3],\n",
       "       [16,  0, 36],\n",
       "       [56,  1,  0]])"
      ]
     },
     "execution_count": 61,
     "metadata": {},
     "output_type": "execute_result"
    }
   ],
   "source": [
    "ar*ar2"
   ]
  },
  {
   "cell_type": "code",
   "execution_count": 62,
   "id": "66d43857",
   "metadata": {},
   "outputs": [
    {
     "data": {
      "text/plain": [
       "array([[1.        , 1.41421356, 1.73205081],\n",
       "       [2.        , 2.23606798, 2.44948974],\n",
       "       [2.64575131, 1.        , 0.        ]])"
      ]
     },
     "execution_count": 62,
     "metadata": {},
     "output_type": "execute_result"
    }
   ],
   "source": [
    "np.sqrt(ar)"
   ]
  },
  {
   "cell_type": "code",
   "execution_count": 63,
   "id": "d52e83e7",
   "metadata": {},
   "outputs": [
    {
     "data": {
      "text/plain": [
       "29"
      ]
     },
     "execution_count": 63,
     "metadata": {},
     "output_type": "execute_result"
    }
   ],
   "source": [
    "ar.sum()"
   ]
  },
  {
   "cell_type": "code",
   "execution_count": 64,
   "id": "887f3e28",
   "metadata": {},
   "outputs": [
    {
     "data": {
      "text/plain": [
       "7"
      ]
     },
     "execution_count": 64,
     "metadata": {},
     "output_type": "execute_result"
    }
   ],
   "source": [
    "ar.max()"
   ]
  },
  {
   "cell_type": "code",
   "execution_count": 65,
   "id": "28bbab01",
   "metadata": {},
   "outputs": [
    {
     "data": {
      "text/plain": [
       "0"
      ]
     },
     "execution_count": 65,
     "metadata": {},
     "output_type": "execute_result"
    }
   ],
   "source": [
    "ar.min()"
   ]
  },
  {
   "cell_type": "code",
   "execution_count": 66,
   "id": "1248716f",
   "metadata": {},
   "outputs": [
    {
     "data": {
      "text/plain": [
       "(array([1, 2], dtype=int64), array([2, 0], dtype=int64))"
      ]
     },
     "execution_count": 66,
     "metadata": {},
     "output_type": "execute_result"
    }
   ],
   "source": [
    "#find element in array\n",
    "np.where(ar>5)"
   ]
  },
  {
   "cell_type": "code",
   "execution_count": 67,
   "id": "8ba7d6ab",
   "metadata": {},
   "outputs": [
    {
     "data": {
      "text/plain": [
       "tuple"
      ]
     },
     "execution_count": 67,
     "metadata": {},
     "output_type": "execute_result"
    }
   ],
   "source": [
    "type(np.where(ar>5))"
   ]
  },
  {
   "cell_type": "code",
   "execution_count": 68,
   "id": "657df5f9",
   "metadata": {},
   "outputs": [
    {
     "data": {
      "text/plain": [
       "8"
      ]
     },
     "execution_count": 68,
     "metadata": {},
     "output_type": "execute_result"
    }
   ],
   "source": [
    "np.count_nonzero(ar)"
   ]
  },
  {
   "cell_type": "code",
   "execution_count": 69,
   "id": "fc7135f4",
   "metadata": {},
   "outputs": [
    {
     "data": {
      "text/plain": [
       "(array([0, 0, 0, 1, 1, 1, 2, 2], dtype=int64),\n",
       " array([0, 1, 2, 0, 1, 2, 0, 1], dtype=int64))"
      ]
     },
     "execution_count": 69,
     "metadata": {},
     "output_type": "execute_result"
    }
   ],
   "source": [
    "np.nonzero(ar)"
   ]
  },
  {
   "cell_type": "code",
   "execution_count": 70,
   "id": "1dff6bb5",
   "metadata": {},
   "outputs": [],
   "source": [
    "ar[1,2]=0"
   ]
  },
  {
   "cell_type": "code",
   "execution_count": 71,
   "id": "16ad6d58",
   "metadata": {},
   "outputs": [],
   "source": [
    "import sys"
   ]
  },
  {
   "cell_type": "code",
   "execution_count": 72,
   "id": "3516f88a",
   "metadata": {},
   "outputs": [],
   "source": [
    "py_ar = [0,4,55,2]"
   ]
  },
  {
   "cell_type": "code",
   "execution_count": 73,
   "id": "5ac2293d",
   "metadata": {},
   "outputs": [],
   "source": [
    "np_ar = np.array(py_ar)"
   ]
  },
  {
   "cell_type": "code",
   "execution_count": 74,
   "id": "e0d189a9",
   "metadata": {},
   "outputs": [
    {
     "data": {
      "text/plain": [
       "28"
      ]
     },
     "execution_count": 74,
     "metadata": {},
     "output_type": "execute_result"
    }
   ],
   "source": [
    "sys.getsizeof(1)"
   ]
  },
  {
   "cell_type": "code",
   "execution_count": 75,
   "id": "7ca9bd4f",
   "metadata": {},
   "outputs": [
    {
     "data": {
      "text/plain": [
       "112"
      ]
     },
     "execution_count": 75,
     "metadata": {},
     "output_type": "execute_result"
    }
   ],
   "source": [
    "sys.getsizeof(1) * len(py_ar)"
   ]
  },
  {
   "cell_type": "code",
   "execution_count": 76,
   "id": "2edaab79",
   "metadata": {},
   "outputs": [
    {
     "data": {
      "text/plain": [
       "16"
      ]
     },
     "execution_count": 76,
     "metadata": {},
     "output_type": "execute_result"
    }
   ],
   "source": [
    "np_ar.itemsize * np_ar.size"
   ]
  },
  {
   "cell_type": "code",
   "execution_count": 77,
   "id": "e3a1a9fc",
   "metadata": {},
   "outputs": [
    {
     "data": {
      "text/plain": [
       "[0, 4, 55, 2]"
      ]
     },
     "execution_count": 77,
     "metadata": {},
     "output_type": "execute_result"
    }
   ],
   "source": [
    "np_ar.tolist()"
   ]
  }
 ],
 "metadata": {
  "kernelspec": {
   "display_name": "Python 3 (ipykernel)",
   "language": "python",
   "name": "python3"
  },
  "language_info": {
   "codemirror_mode": {
    "name": "ipython",
    "version": 3
   },
   "file_extension": ".py",
   "mimetype": "text/x-python",
   "name": "python",
   "nbconvert_exporter": "python",
   "pygments_lexer": "ipython3",
   "version": "3.9.7"
  }
 },
 "nbformat": 4,
 "nbformat_minor": 5
}
